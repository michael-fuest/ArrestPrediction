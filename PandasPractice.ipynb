{
 "cells": [
  {
   "cell_type": "code",
   "execution_count": 1,
   "id": "56b5979e",
   "metadata": {},
   "outputs": [],
   "source": [
    "#Importing relevant packages\n",
    "\n",
    "import numpy as np\n",
    "import pandas as pd\n",
    "import seaborn as sns\n",
    "import matplotlib as mp\n",
    "import sklearn as sk"
   ]
  },
  {
   "cell_type": "code",
   "execution_count": 2,
   "id": "a12329d0",
   "metadata": {},
   "outputs": [
    {
     "name": "stdout",
     "output_type": "stream",
     "text": [
      "         driver_age\n",
      "count  86120.000000\n",
      "mean      34.011333\n",
      "std       12.738564\n",
      "min       15.000000\n",
      "25%       23.000000\n",
      "50%       31.000000\n",
      "75%       43.000000\n",
      "max       99.000000\n",
      "(91741, 12)\n",
      "stop_date              object\n",
      "stop_time              object\n",
      "driver_gender          object\n",
      "driver_age            float64\n",
      "driver_race            object\n",
      "violation              object\n",
      "search_conducted         bool\n",
      "search_type            object\n",
      "stop_outcome           object\n",
      "is_arrested            object\n",
      "stop_duration          object\n",
      "drugs_related_stop       bool\n",
      "dtype: object\n"
     ]
    }
   ],
   "source": [
    "#Reading in my dataset\n",
    "df = pd.read_csv('police.csv')\n",
    "\n",
    "#Pandas functions for exploratory analyses\n",
    "df.drop('county_name', axis = 1, inplace = True)\n",
    "df.drop('driver_age_raw', axis = 1, inplace = True)\n",
    "df.drop('violation_raw', axis = 1, inplace = True)\n",
    "print(df.describe())\n",
    "print(df.shape)\n",
    "print(df.dtypes)"
   ]
  },
  {
   "cell_type": "code",
   "execution_count": 3,
   "id": "62571ff9",
   "metadata": {},
   "outputs": [
    {
     "data": {
      "text/plain": [
       "0            Student\n",
       "1              Adult\n",
       "2        Young Adult\n",
       "3            Student\n",
       "4            Student\n",
       "            ...     \n",
       "91736    Young Adult\n",
       "91737    Young Adult\n",
       "91738        Student\n",
       "91739        Student\n",
       "91740          Adult\n",
       "Name: driver_age, Length: 91741, dtype: category\n",
       "Categories (8, object): ['Unknown' < 'Baby' < 'Child' < 'Teenager' < 'Student' < 'Young Adult' < 'Adult' < 'Senior']"
      ]
     },
     "execution_count": 3,
     "metadata": {},
     "output_type": "execute_result"
    }
   ],
   "source": [
    "#Date / Time conversion\n",
    "df['stop_date'] = pd.to_datetime(df['stop_date'])\n",
    "df['stop_time'] = pd.to_datetime(df['stop_time'])\n",
    "\n",
    "late_evening = '2022-06-27 23:59:59'\n",
    "afternoon = '2022-06-27 17:59:59'\n",
    "before_noon = '2022-06-27 11:59:59'\n",
    "early_morning = '2022-06-27 05:59:59'\n",
    "\n",
    "#Building categorical time of day variable\n",
    "conditions = [\n",
    "    (df['stop_time'] < early_morning),\n",
    "    (df['stop_time'] < before_noon) & (df['stop_time'] > early_morning),\n",
    "    (df['stop_time'] < afternoon) & (df['stop_time'] > before_noon),\n",
    "    (df['stop_time'] < late_evening) & (df['stop_time'] > afternoon)\n",
    "]\n",
    "\n",
    "values = [\"Early Morning\", \"Before Noon\", \"After Noon\", \"Late Evening\"]\n",
    "\n",
    "df['timeOfDay'] = np.select(conditions, values)\n",
    "df['is_arrested'] = df['is_arrested'].astype('bool')\n",
    "\n",
    "df.dtypes\n",
    "\n",
    "#Bucketizing Age Variable\n",
    "df.driver_age = df.driver_age.fillna(-0.5)\n",
    "bins = (-1, 0, 5, 12, 18, 25, 35, 60, 120)\n",
    "group_names = ['Unknown', 'Baby', 'Child', 'Teenager', 'Student', 'Young Adult', 'Adult', 'Senior']\n",
    "categories = pd.cut(df.driver_age, bins, labels=group_names)\n",
    "df.driver_age = categories\n",
    "\n",
    "df.driver_age\n",
    "\n",
    "\n",
    "\n",
    "\n",
    "\n"
   ]
  },
  {
   "cell_type": "code",
   "execution_count": 4,
   "id": "870d36df",
   "metadata": {},
   "outputs": [],
   "source": [
    "#Deal with missing values\n",
    "df.drop(columns = ['search_type'], inplace = True)\n",
    "df['driver_race'].fillna(df['driver_race'].mode().values[0], inplace = True)\n",
    "df['stop_duration'].fillna(df['stop_duration'].mode().values[0], inplace = True)"
   ]
  },
  {
   "cell_type": "code",
   "execution_count": 5,
   "id": "cbad3f54",
   "metadata": {},
   "outputs": [
    {
     "data": {
      "text/plain": [
       "<AxesSubplot:xlabel='driver_gender', ylabel='count'>"
      ]
     },
     "execution_count": 5,
     "metadata": {},
     "output_type": "execute_result"
    },
    {
     "data": {
      "image/png": "[encoded data removed]",
      "text/plain": [
       "<Figure size 432x288 with 1 Axes>"
      ]
     },
     "metadata": {
      "needs_background": "light"
     },
     "output_type": "display_data"
    }
   ],
   "source": [
    "#Plotting categorical variables\n",
    "#sns.countplot(x = df['stop_outcome'])\n",
    "#sns.countplot(x = df['is_arrested'])\n",
    "#sns.countplot(x = df['driver_race'])\n",
    "sns.countplot(x = df['driver_gender'])"
   ]
  },
  {
   "cell_type": "code",
   "execution_count": 69,
   "id": "6baa9940",
   "metadata": {},
   "outputs": [
    {
     "data": {
      "text/plain": [
       "driver_gender_M                  uint8\n",
       "drugs_related_stop_True          uint8\n",
       "is_arrested_True                 uint8\n",
       "violation_Equipment              uint8\n",
       "violation_Moving violation       uint8\n",
       "violation_Other                  uint8\n",
       "violation_Registration/plates    uint8\n",
       "violation_Seat belt              uint8\n",
       "violation_Speeding               uint8\n",
       "stop_duration_0-15 Min           uint8\n",
       "stop_duration_1                  uint8\n",
       "stop_duration_16-30 Min          uint8\n",
       "stop_duration_2                  uint8\n",
       "stop_duration_30+ Min            uint8\n",
       "search_conducted_True            uint8\n",
       "driver_race_Asian                uint8\n",
       "driver_race_Black                uint8\n",
       "driver_race_Hispanic             uint8\n",
       "driver_race_Other                uint8\n",
       "driver_race_White                uint8\n",
       "timeOfDay_0                      uint8\n",
       "driver_age_Unknown               uint8\n",
       "driver_age_Baby                  uint8\n",
       "driver_age_Child                 uint8\n",
       "driver_age_Teenager              uint8\n",
       "driver_age_Student               uint8\n",
       "driver_age_Young Adult           uint8\n",
       "driver_age_Adult                 uint8\n",
       "driver_age_Senior                uint8\n",
       "dtype: object"
      ]
     },
     "execution_count": 69,
     "metadata": {},
     "output_type": "execute_result"
    }
   ],
   "source": [
    "#Dummifying categorical variables\n",
    "df_dummies = pd.get_dummies(df, \n",
    "                            columns=['driver_gender', 'drugs_related_stop', 'is_arrested', 'violation','stop_duration', 'search_conducted', 'driver_race', 'timeOfDay', 'driver_age'])\n",
    "\n",
    "df_dummies.drop(columns = ['stop_date','stop_time','is_arrested_False', 'driver_gender_F','drugs_related_stop_False', 'search_conducted_False', 'stop_outcome'], inplace = True)\n",
    "\n",
    "\n",
    "\n",
    "\n",
    "df_dummies.dtypes"
   ]
  },
  {
   "cell_type": "code",
   "execution_count": 70,
   "id": "673d6987",
   "metadata": {},
   "outputs": [],
   "source": [
    "#Generate completely unseen balanced dataset\n",
    "df_arr = df_dummies[df_dummies.is_arrested_True==1].sample(200)\n",
    "df_notarr = df_dummies[df_dummies.is_arrested_True==0].sample(200)\n",
    "df_unseen = pd.concat([df_arr, df_notarr])\n",
    "df_unseen.shape\n",
    "df_unseen.to_csv('police_unseen.csv')\n"
   ]
  },
  {
   "cell_type": "code",
   "execution_count": 71,
   "id": "60d3c687",
   "metadata": {},
   "outputs": [
    {
     "name": "stdout",
     "output_type": "stream",
     "text": [
      "(91741, 29)\n",
      "Int64Index([26627, 36653,  2676, 68776, 79323, 41145, 88819, 39552, 90490,\n",
      "            78888,\n",
      "            ...\n",
      "            33124, 10860, 29277,  5202, 32903, 91156, 72612, 14190,  5957,\n",
      "             8911],\n",
      "           dtype='int64', length=400)\n"
     ]
    },
    {
     "data": {
      "text/plain": [
       "(91341, 29)"
      ]
     },
     "execution_count": 71,
     "metadata": {},
     "output_type": "execute_result"
    }
   ],
   "source": [
    "#Removing unseen dataset from original dataset\n",
    "print(df_dummies.shape)\n",
    "print(df_unseen.index)\n",
    "df_dummies.drop(df_unseen.index, inplace = True)\n",
    "df_dummies.reset_index()\n",
    "df_dummies.shape"
   ]
  },
  {
   "cell_type": "code",
   "execution_count": 72,
   "id": "010e7ddd",
   "metadata": {},
   "outputs": [
    {
     "name": "stdout",
     "output_type": "stream",
     "text": [
      "       driver_gender_M  drugs_related_stop_True  violation_Equipment  \\\n",
      "0                    1                        0                    0   \n",
      "1                    1                        0                    0   \n",
      "2                    1                        0                    0   \n",
      "3                    1                        0                    0   \n",
      "4                    0                        0                    0   \n",
      "...                ...                      ...                  ...   \n",
      "91736                1                        0                    0   \n",
      "91737                0                        0                    1   \n",
      "91738                1                        0                    0   \n",
      "91739                1                        0                    0   \n",
      "91740                1                        0                    0   \n",
      "\n",
      "       violation_Moving violation  violation_Other  \\\n",
      "0                               0                0   \n",
      "1                               0                0   \n",
      "2                               0                0   \n",
      "3                               0                1   \n",
      "4                               0                0   \n",
      "...                           ...              ...   \n",
      "91736                           0                0   \n",
      "91737                           0                0   \n",
      "91738                           1                0   \n",
      "91739                           0                0   \n",
      "91740                           0                0   \n",
      "\n",
      "       violation_Registration/plates  violation_Seat belt  violation_Speeding  \\\n",
      "0                                  0                    0                   1   \n",
      "1                                  0                    0                   1   \n",
      "2                                  0                    0                   1   \n",
      "3                                  0                    0                   0   \n",
      "4                                  0                    0                   1   \n",
      "...                              ...                  ...                 ...   \n",
      "91736                              0                    0                   1   \n",
      "91737                              0                    0                   0   \n",
      "91738                              0                    0                   0   \n",
      "91739                              0                    0                   1   \n",
      "91740                              0                    0                   1   \n",
      "\n",
      "       stop_duration_0-15 Min  stop_duration_1  ...  driver_race_White  \\\n",
      "0                           1                0  ...                  1   \n",
      "1                           1                0  ...                  1   \n",
      "2                           1                0  ...                  1   \n",
      "3                           0                0  ...                  1   \n",
      "4                           1                0  ...                  1   \n",
      "...                       ...              ...  ...                ...   \n",
      "91736                       1                0  ...                  1   \n",
      "91737                       1                0  ...                  1   \n",
      "91738                       1                0  ...                  1   \n",
      "91739                       1                0  ...                  1   \n",
      "91740                       1                0  ...                  0   \n",
      "\n",
      "       timeOfDay_0  driver_age_Unknown  driver_age_Baby  driver_age_Child  \\\n",
      "0                1                   0                0                 0   \n",
      "1                1                   0                0                 0   \n",
      "2                1                   0                0                 0   \n",
      "3                1                   0                0                 0   \n",
      "4                1                   0                0                 0   \n",
      "...            ...                 ...              ...               ...   \n",
      "91736            1                   0                0                 0   \n",
      "91737            1                   0                0                 0   \n",
      "91738            1                   0                0                 0   \n",
      "91739            1                   0                0                 0   \n",
      "91740            1                   0                0                 0   \n",
      "\n",
      "       driver_age_Teenager  driver_age_Student  driver_age_Young Adult  \\\n",
      "0                        0                   1                       0   \n",
      "1                        0                   0                       0   \n",
      "2                        0                   0                       1   \n",
      "3                        0                   1                       0   \n",
      "4                        0                   1                       0   \n",
      "...                    ...                 ...                     ...   \n",
      "91736                    0                   0                       1   \n",
      "91737                    0                   0                       1   \n",
      "91738                    0                   1                       0   \n",
      "91739                    0                   1                       0   \n",
      "91740                    0                   0                       0   \n",
      "\n",
      "       driver_age_Adult  driver_age_Senior  \n",
      "0                     0                  0  \n",
      "1                     1                  0  \n",
      "2                     0                  0  \n",
      "3                     0                  0  \n",
      "4                     0                  0  \n",
      "...                 ...                ...  \n",
      "91736                 0                  0  \n",
      "91737                 0                  0  \n",
      "91738                 0                  0  \n",
      "91739                 0                  0  \n",
      "91740                 1                  0  \n",
      "\n",
      "[91341 rows x 28 columns]\n"
     ]
    }
   ],
   "source": [
    "#Splitting into ind. (X) and dep. (Y) variables\n",
    "X = df_dummies.drop(columns = ['is_arrested_True'], axis = 1)\n",
    "Y = df_dummies['is_arrested_True'].to_numpy()\n",
    "\n",
    "print(X)"
   ]
  },
  {
   "cell_type": "code",
   "execution_count": 73,
   "id": "43ad0cff",
   "metadata": {},
   "outputs": [],
   "source": [
    "from sklearn.model_selection import train_test_split\n",
    "#Train Test split\n",
    "\n",
    "x_train, x_test, y_train, y_test = train_test_split(X, Y, test_size=0.20, random_state=23) "
   ]
  },
  {
   "cell_type": "code",
   "execution_count": 74,
   "id": "05232f6a",
   "metadata": {},
   "outputs": [
    {
     "data": {
      "text/html": [
       "<style>#sk-container-id-2 {color: black;background-color: white;}#sk-container-id-2 pre{padding: 0;}#sk-container-id-2 div.sk-toggleable {background-color: white;}#sk-container-id-2 label.sk-toggleable__label {cursor: pointer;display: block;width: 100%;margin-bottom: 0;padding: 0.3em;box-sizing: border-box;text-align: center;}#sk-container-id-2 label.sk-toggleable__label-arrow:before {content: \"▸\";float: left;margin-right: 0.25em;color: #696969;}#sk-container-id-2 label.sk-toggleable__label-arrow:hover:before {color: black;}#sk-container-id-2 div.sk-estimator:hover label.sk-toggleable__label-arrow:before {color: black;}#sk-container-id-2 div.sk-toggleable__content {max-height: 0;max-width: 0;overflow: hidden;text-align: left;background-color: #f0f8ff;}#sk-container-id-2 div.sk-toggleable__content pre {margin: 0.2em;color: black;border-radius: 0.25em;background-color: #f0f8ff;}#sk-container-id-2 input.sk-toggleable__control:checked~div.sk-toggleable__content {max-height: 200px;max-width: 100%;overflow: auto;}#sk-container-id-2 input.sk-toggleable__control:checked~label.sk-toggleable__label-arrow:before {content: \"▾\";}#sk-container-id-2 div.sk-estimator input.sk-toggleable__control:checked~label.sk-toggleable__label {background-color: #d4ebff;}#sk-container-id-2 div.sk-label input.sk-toggleable__control:checked~label.sk-toggleable__label {background-color: #d4ebff;}#sk-container-id-2 input.sk-hidden--visually {border: 0;clip: rect(1px 1px 1px 1px);clip: rect(1px, 1px, 1px, 1px);height: 1px;margin: -1px;overflow: hidden;padding: 0;position: absolute;width: 1px;}#sk-container-id-2 div.sk-estimator {font-family: monospace;background-color: #f0f8ff;border: 1px dotted black;border-radius: 0.25em;box-sizing: border-box;margin-bottom: 0.5em;}#sk-container-id-2 div.sk-estimator:hover {background-color: #d4ebff;}#sk-container-id-2 div.sk-parallel-item::after {content: \"\";width: 100%;border-bottom: 1px solid gray;flex-grow: 1;}#sk-container-id-2 div.sk-label:hover label.sk-toggleable__label {background-color: #d4ebff;}#sk-container-id-2 div.sk-serial::before {content: \"\";position: absolute;border-left: 1px solid gray;box-sizing: border-box;top: 0;bottom: 0;left: 50%;z-index: 0;}#sk-container-id-2 div.sk-serial {display: flex;flex-direction: column;align-items: center;background-color: white;padding-right: 0.2em;padding-left: 0.2em;position: relative;}#sk-container-id-2 div.sk-item {position: relative;z-index: 1;}#sk-container-id-2 div.sk-parallel {display: flex;align-items: stretch;justify-content: center;background-color: white;position: relative;}#sk-container-id-2 div.sk-item::before, #sk-container-id-2 div.sk-parallel-item::before {content: \"\";position: absolute;border-left: 1px solid gray;box-sizing: border-box;top: 0;bottom: 0;left: 50%;z-index: -1;}#sk-container-id-2 div.sk-parallel-item {display: flex;flex-direction: column;z-index: 1;position: relative;background-color: white;}#sk-container-id-2 div.sk-parallel-item:first-child::after {align-self: flex-end;width: 50%;}#sk-container-id-2 div.sk-parallel-item:last-child::after {align-self: flex-start;width: 50%;}#sk-container-id-2 div.sk-parallel-item:only-child::after {width: 0;}#sk-container-id-2 div.sk-dashed-wrapped {border: 1px dashed gray;margin: 0 0.4em 0.5em 0.4em;box-sizing: border-box;padding-bottom: 0.4em;background-color: white;}#sk-container-id-2 div.sk-label label {font-family: monospace;font-weight: bold;display: inline-block;line-height: 1.2em;}#sk-container-id-2 div.sk-label-container {text-align: center;}#sk-container-id-2 div.sk-container {/* jupyter's `normalize.less` sets `[hidden] { display: none; }` but bootstrap.min.css set `[hidden] { display: none !important; }` so we also need the `!important` here to be able to override the default hidden behavior on the sphinx rendered scikit-learn.org. See: https://github.com/scikit-learn/scikit-learn/issues/21755 */display: inline-block !important;position: relative;}#sk-container-id-2 div.sk-text-repr-fallback {display: none;}</style><div id=\"sk-container-id-2\" class=\"sk-top-container\"><div class=\"sk-text-repr-fallback\"><pre>RandomForestClassifier(criterion=&#x27;entropy&#x27;, max_depth=10, min_samples_leaf=5,\n",
       "                       n_estimators=9)</pre><b>In a Jupyter environment, please rerun this cell to show the HTML representation or trust the notebook. <br />On GitHub, the HTML representation is unable to render, please try loading this page with nbviewer.org.</b></div><div class=\"sk-container\" hidden><div class=\"sk-item\"><div class=\"sk-estimator sk-toggleable\"><input class=\"sk-toggleable__control sk-hidden--visually\" id=\"sk-estimator-id-2\" type=\"checkbox\" checked><label for=\"sk-estimator-id-2\" class=\"sk-toggleable__label sk-toggleable__label-arrow\">RandomForestClassifier</label><div class=\"sk-toggleable__content\"><pre>RandomForestClassifier(criterion=&#x27;entropy&#x27;, max_depth=10, min_samples_leaf=5,\n",
       "                       n_estimators=9)</pre></div></div></div></div></div>"
      ],
      "text/plain": [
       "RandomForestClassifier(criterion='entropy', max_depth=10, min_samples_leaf=5,\n",
       "                       n_estimators=9)"
      ]
     },
     "execution_count": 74,
     "metadata": {},
     "output_type": "execute_result"
    }
   ],
   "source": [
    "from sklearn.ensemble import RandomForestClassifier\n",
    "from sklearn.metrics import make_scorer, accuracy_score\n",
    "from sklearn.model_selection import GridSearchCV\n",
    "#Modeling Random Forest\n",
    "\n",
    "clf = RandomForestClassifier()\n",
    "\n",
    "# Choose some parameter combinations to try\n",
    "parameters = {'n_estimators': [4, 6, 9],  \n",
    "              'criterion': ['entropy', 'gini'],\n",
    "              'max_depth': [2, 3, 5, 10], \n",
    "              'min_samples_split': [2, 3, 5],\n",
    "              'min_samples_leaf': [1,5,8]\n",
    "             }\n",
    "\n",
    "# Type of scoring used to compare parameter combinations\n",
    "acc_scorer = make_scorer(accuracy_score)\n",
    "\n",
    "# Run the grid search\n",
    "grid_obj = GridSearchCV(clf, parameters, scoring=acc_scorer, cv = 10)\n",
    "grid_obj = grid_obj.fit(x_train, y_train)\n",
    "\n",
    "# Set the clf to the best combination of parameters\n",
    "clf = grid_obj.best_estimator_\n",
    "\n",
    "# Fit the best algorithm to the data. \n",
    "clf.fit(x_train, y_train)\n"
   ]
  },
  {
   "cell_type": "code",
   "execution_count": 75,
   "id": "961a976a",
   "metadata": {},
   "outputs": [
    {
     "name": "stdout",
     "output_type": "stream",
     "text": [
      "0.9683617056215447\n"
     ]
    }
   ],
   "source": [
    "#Predictions\n",
    "predictions = clf.predict(x_test)\n",
    "print(accuracy_score(y_test, predictions))"
   ]
  },
  {
   "cell_type": "code",
   "execution_count": 76,
   "id": "ec28ad8f",
   "metadata": {},
   "outputs": [
    {
     "data": {
      "text/plain": [
       "(400, 29)"
      ]
     },
     "execution_count": 76,
     "metadata": {},
     "output_type": "execute_result"
    }
   ],
   "source": [
    "#Predict unseen\n",
    "\n",
    "df_unseen = pd.read_csv('police_unseen.csv')\n",
    "df_unseen.drop(columns = ['Unnamed: 0'], inplace = True)\n",
    "df_unseen.shape"
   ]
  },
  {
   "cell_type": "code",
   "execution_count": 77,
   "id": "8a3d28a6",
   "metadata": {},
   "outputs": [
    {
     "name": "stdout",
     "output_type": "stream",
     "text": [
      "0.8175\n"
     ]
    }
   ],
   "source": [
    "#Predictions\n",
    "y_unseen = df_unseen.is_arrested_True\n",
    "df_unseen.drop(columns = ['is_arrested_True'], inplace = True)\n",
    "unseen_predictions = clf.predict(df_unseen)\n",
    "print(accuracy_score(y_unseen, unseen_predictions))"
   ]
  },
  {
   "cell_type": "code",
   "execution_count": null,
   "id": "bddc6164",
   "metadata": {},
   "outputs": [],
   "source": []
  }
 ],
 "metadata": {
  "kernelspec": {
   "display_name": "testing",
   "language": "python",
   "name": "testing"
  },
  "language_info": {
   "codemirror_mode": {
    "name": "ipython",
    "version": 3
   },
   "file_extension": ".py",
   "mimetype": "text/x-python",
   "name": "python",
   "nbconvert_exporter": "python",
   "pygments_lexer": "ipython3",
   "version": "3.10.4"
  }
 },
 "nbformat": 4,
 "nbformat_minor": 5
}
